{
  "nbformat": 4,
  "nbformat_minor": 0,
  "metadata": {
    "colab": {
      "provenance": [],
      "authorship_tag": "ABX9TyN1K2J44O2b98Jr6uTaRNCe"
    },
    "kernelspec": {
      "name": "python3",
      "display_name": "Python 3"
    },
    "language_info": {
      "name": "python"
    }
  },
  "cells": [
    {
      "cell_type": "markdown",
      "source": [
        "Dataset Information\n",
        "* Dataset: Groceries Dataset from Kaggle\n",
        "* Source: https://www.kaggle.com/datasets/heeraldedhia/groceries-dataset\n",
        "* Description: Contains 38,765 transactions from a grocery store with items purchased together\n",
        "* Format: CSV with columns: Member_number, Date, itemDescription\n",
        "* Size: ~1.5MB, perfect for learning\n"
      ],
      "metadata": {
        "id": "T230Y8NXpMyq"
      }
    },
    {
      "cell_type": "markdown",
      "source": [
        "# Part 1: Data Preparation and Exploration\n"
      ],
      "metadata": {
        "id": "ar_RHDWnpTM_"
      }
    },
    {
      "cell_type": "markdown",
      "source": [
        "## Libraries"
      ],
      "metadata": {
        "id": "5Odc66aBpU1V"
      }
    },
    {
      "cell_type": "code",
      "execution_count": 1,
      "metadata": {
        "id": "MgxmBTL4nbVY"
      },
      "outputs": [],
      "source": [
        "import pandas as pd\n",
        "import numpy as np\n",
        "from collections import defaultdict, Counter\n",
        "from itertools import combinations\n",
        "import matplotlib.pyplot as plt\n",
        "import seaborn as sns\n"
      ]
    },
    {
      "cell_type": "markdown",
      "source": [
        "## Load and Explore the Dataset\n"
      ],
      "metadata": {
        "id": "vegsf_ripcOd"
      }
    },
    {
      "cell_type": "code",
      "source": [
        "# TODO 1.1.1: Load the dataset\n",
        "# Download from: https://www.kaggle.com/datasets/heeraldedhia/groceries-dataset\n",
        "df = pd.read_csv('Groceries_dataset.csv')  # Fill in the filename\n",
        "\n",
        "# TODO 1.1.2: Explore the dataset structure\n",
        "# Print dataset shape, first 5 rows, and basic info\n",
        "# Hint: Use df.shape, df.head(), df.info()\n",
        "print(\"Dataset shape:\", df.shape)\n",
        "print(\"\\nFirst 5 rows:\")\n",
        "print(df.head())\n",
        "\n",
        "print(\"\\nDataset info:\")\n",
        "print(df.info())\n",
        "\n",
        "# TODO 1.1.3: Check for missing values\n",
        "# Hint: Use df.isnull().sum()\n",
        "print(\"\\nMissing values:\")\n",
        "print(df.isnull().sum())\n",
        "\n",
        "# TODO 1.1.4: Examine unique values\n",
        "# Count unique members, items, and date range\n",
        "# Hint: Use df['column'].nunique() and df['Date'].min()/max()\n",
        "unique_members = df['Member_number'].nunique()\n",
        "unique_items = df['itemDescription'].nunique()\n",
        "date_min = df['Date'].min()\n",
        "date_max = df['Date'].max()\n",
        "\n",
        "\n",
        "print(f\"\\nUnique members: {unique_members}\")\n",
        "print(f\"Unique items: {unique_items}\")\n",
        "print(f\"Date range: {date_min} to {date_max}\")"
      ],
      "metadata": {
        "colab": {
          "base_uri": "https://localhost:8080/"
        },
        "id": "XXYrRXEqpfQI",
        "outputId": "ca3a3792-daaf-42d1-81a5-6bd1bded18d7"
      },
      "execution_count": 3,
      "outputs": [
        {
          "output_type": "stream",
          "name": "stdout",
          "text": [
            "Dataset shape: (38765, 3)\n",
            "\n",
            "First 5 rows:\n",
            "   Member_number        Date   itemDescription\n",
            "0           1808  21-07-2015    tropical fruit\n",
            "1           2552  05-01-2015        whole milk\n",
            "2           2300  19-09-2015         pip fruit\n",
            "3           1187  12-12-2015  other vegetables\n",
            "4           3037  01-02-2015        whole milk\n",
            "\n",
            "Dataset info:\n",
            "<class 'pandas.core.frame.DataFrame'>\n",
            "RangeIndex: 38765 entries, 0 to 38764\n",
            "Data columns (total 3 columns):\n",
            " #   Column           Non-Null Count  Dtype \n",
            "---  ------           --------------  ----- \n",
            " 0   Member_number    38765 non-null  int64 \n",
            " 1   Date             38765 non-null  object\n",
            " 2   itemDescription  38765 non-null  object\n",
            "dtypes: int64(1), object(2)\n",
            "memory usage: 908.7+ KB\n",
            "None\n",
            "\n",
            "Missing values:\n",
            "Member_number      0\n",
            "Date               0\n",
            "itemDescription    0\n",
            "dtype: int64\n",
            "\n",
            "Unique members: 3898\n",
            "Unique items: 167\n",
            "Date range: 01-01-2014 to 31-10-2015\n"
          ]
        }
      ]
    },
    {
      "cell_type": "markdown",
      "source": [
        "## Transform Data into Transaction Format"
      ],
      "metadata": {
        "id": "MQ9R434Nqxn8"
      }
    },
    {
      "cell_type": "code",
      "source": [
        "def create_transaction_list(df):\n",
        "    \"\"\"\n",
        "    Convert the dataframe into a list of transactions (itemsets)\n",
        "    Each transaction is a list of items bought together by the same member on the same date\n",
        "\n",
        "    TODO 1.2.1: Implement this function\n",
        "    Args:\n",
        "        df: DataFrame with columns Member_number, Date, itemDescription\n",
        "    Returns:\n",
        "        list: List of transactions, where each transaction is a list of items\n",
        "\n",
        "    Hints:\n",
        "    - Group by Member_number AND Date to get transactions\n",
        "    - Use groupby() and apply(list) to collect items\n",
        "    - Return the list of item lists\n",
        "    \"\"\"\n",
        "\n",
        "    grouped = df.groupby(['Member_number', 'Date'])['itemDescription'].apply(list)\n",
        "\n",
        "    transactions = grouped.tolist()\n",
        "\n",
        "    # TODO: Your code here\n",
        "    # Step 1: Group by member and date\n",
        "    # Step 2: Aggregate items into lists\n",
        "    # Step 3: Extract the list of transactions\n",
        "\n",
        "    return transactions\n",
        "\n",
        "# TODO 1.2.2: Create transaction list and display statistics\n",
        "transactions = create_transaction_list(df)\n",
        "\n",
        "print(f\"Total transactions: {len(transactions)}\")  # Fill in with len(transactions)\n",
        "print(f\"First 5 transactions:\")\n",
        "# TODO: Print first 5 transactions using a loop\n",
        "for i in range(5):\n",
        "    print(transactions[i])\n",
        "\n",
        "# TODO 1.2.3: Calculate transaction statistics\n",
        "# Calculate: average, min, max items per transaction\n",
        "# TODO: Fill this list with transaction lengths\n",
        "transaction_lengths = [len(t) for t in transactions]\n",
        "\n",
        "average_length = np.mean(transaction_lengths)\n",
        "min_length = np.min(transaction_lengths)\n",
        "max_length = np.max(transaction_lengths)\n",
        "\n",
        "print(f\"\\nTransaction length statistics:\")\n",
        "print(f\"Average items per transaction: {average_length:.2f}\")\n",
        "print(f\"Min items: {min_length}\")\n",
        "print(f\"Max items: {max_length}\")\n"
      ],
      "metadata": {
        "colab": {
          "base_uri": "https://localhost:8080/"
        },
        "id": "rB1gpdsXqy3T",
        "outputId": "9c5b060f-4dcf-420c-9742-dc62acf74e44"
      },
      "execution_count": 4,
      "outputs": [
        {
          "output_type": "stream",
          "name": "stdout",
          "text": [
            "Total transactions: 14963\n",
            "First 5 transactions:\n",
            "['sausage', 'whole milk', 'semi-finished bread', 'yogurt']\n",
            "['whole milk', 'pastry', 'salty snack']\n",
            "['canned beer', 'misc. beverages']\n",
            "['sausage', 'hygiene articles']\n",
            "['soda', 'pickled vegetables']\n",
            "\n",
            "Transaction length statistics:\n",
            "Average items per transaction: 2.59\n",
            "Min items: 2\n",
            "Max items: 11\n"
          ]
        }
      ]
    },
    {
      "cell_type": "markdown",
      "source": [
        "## Visualize Data Patterns"
      ],
      "metadata": {
        "id": "_Cq8O14arvEN"
      }
    },
    {
      "cell_type": "code",
      "source": [
        "# TODO 1.3.1: Create transaction length distribution plot\n",
        "plt.figure(figsize=(12, 4))\n",
        "\n",
        "plt.subplot(1, 2, 1)\n",
        "# TODO: Create histogram of transaction_lengths\n",
        "# Hint: plt.hist(data, bins=20, edgecolor='black', alpha=0.7)\n",
        "plt.hist(transaction_lengths, bins=20, edgecolor='black', alpha=0.7)\n",
        "plt.xlabel('Number of Items per Transaction')\n",
        "plt.ylabel('Frequency')\n",
        "plt.title('Distribution of Transaction Lengths')\n",
        "\n",
        "# TODO 1.3.2: Create most frequent items plot\n",
        "# Step 1: Flatten all items from all transactions into one list\n",
        "all_items = [item for transaction in transactions for item in transaction]\n",
        "\n",
        "# Step 2: Count item frequencies\n",
        "item_counts = Counter(all_items)\n",
        "top_20_items = item_counts.most_common(20)\n",
        "\n",
        "plt.subplot(1, 2, 2)\n",
        "# TODO: Create bar plot of top 20 items\n",
        "# Hint: Extract items and counts from top_20_items, then use plt.bar()\n",
        "items, counts = zip(*top_20_items)\n",
        "\n",
        "plt.bar(range(len(items)), counts, color='skyblue', edgecolor='black')\n",
        "plt.xlabel('Items')\n",
        "plt.ylabel('Frequency')\n",
        "plt.title('Top 20 Most Frequent Items')\n",
        "# TODO: Set x-axis labels with rotation\n",
        "plt.xticks(range(len(items)), items, rotation=45, ha='right')\n",
        "\n",
        "plt.tight_layout()\n",
        "plt.show()\n",
        "\n",
        "# TODO 1.3.3: Print top 10 items with percentages\n",
        "print(\"\\nTop 10 most frequent items:\")\n",
        "# TODO: Loop through top_20_items[:10] and print item, count, and percentage\n",
        "total_items = sum(item_counts.values())\n",
        "for item, count in top_20_items[:10]:\n",
        "    percentage = (count / total_items) * 100\n",
        "    print(f\"{item}: {count} ({percentage:.2f}%)\")"
      ],
      "metadata": {
        "colab": {
          "base_uri": "https://localhost:8080/",
          "height": 446
        },
        "id": "RTjFozPNrwVE",
        "outputId": "93933e43-3a2c-4a7c-da06-7ecb6d406496"
      },
      "execution_count": 5,
      "outputs": [
        {
          "output_type": "display_data",
          "data": {
            "text/plain": [
              "<Figure size 1200x400 with 2 Axes>"
            ],
            "image/png": "[encoded data removed]"
          },
          "metadata": {}
        },
        {
          "output_type": "stream",
          "name": "stdout",
          "text": [
            "\n",
            "Top 10 most frequent items:\n",
            "whole milk: 2502 (6.45%)\n",
            "other vegetables: 1898 (4.90%)\n",
            "rolls/buns: 1716 (4.43%)\n",
            "soda: 1514 (3.91%)\n",
            "yogurt: 1334 (3.44%)\n",
            "root vegetables: 1071 (2.76%)\n",
            "tropical fruit: 1032 (2.66%)\n",
            "bottled water: 933 (2.41%)\n",
            "sausage: 924 (2.38%)\n",
            "citrus fruit: 812 (2.09%)\n"
          ]
        }
      ]
    },
    {
      "cell_type": "markdown",
      "source": [
        "# Part 2: Implement Apriori Algorithm Core Functions"
      ],
      "metadata": {
        "id": "U1vZSCnhzZGi"
      }
    },
    {
      "cell_type": "markdown",
      "source": [
        "## Calculate Support"
      ],
      "metadata": {
        "id": "gcKogR3FzaWm"
      }
    },
    {
      "cell_type": "code",
      "source": [
        "def calculate_support(itemset, transactions):\n",
        "    \"\"\"\n",
        "    Calculate support for an itemset\n",
        "    Support = (Number of transactions containing itemset) / (Total number of transactions)\n",
        "\n",
        "    TODO 2.1.1: Implement support calculation\n",
        "    Args:\n",
        "        itemset: frozenset of items to check\n",
        "        transactions: list of transactions (lists of items)\n",
        "\n",
        "    Returns:\n",
        "        float: support value between 0 and 1\n",
        "\n",
        "    Hints:\n",
        "    - Loop through all transactions\n",
        "    - Check if itemset is a subset of each transaction\n",
        "    - Count how many transactions contain the itemset\n",
        "    - Divide by total number of transactions\n",
        "    \"\"\"\n",
        "    count = 0\n",
        "\n",
        "    # TODO: Your implementation here\n",
        "    # Hint: Use itemset.issubset(set(transaction)) to check containment\n",
        "    for transaction in transactions:\n",
        "        if itemset.issubset(set(transaction)):\n",
        "            count += 1\n",
        "\n",
        "    return count / len(transactions)\n",
        "\n",
        "# TODO 2.1.2: Test the function\n",
        "test_itemset = frozenset(['whole milk'])\n",
        "support = calculate_support(test_itemset, transactions)\n",
        "print(f\"Support for {set(test_itemset)}: {support:.4f}\")\n",
        "\n",
        "# TODO 2.1.3: Test with a 2-itemset\n",
        "test_itemset_2 = frozenset(['whole milk', 'butter'])  # Choose two items\n",
        "support_2 = calculate_support(test_itemset_2, transactions)\n",
        "print(f\"Support for {set(test_itemset_2)}: {support_2:.4f}\")\n"
      ],
      "metadata": {
        "colab": {
          "base_uri": "https://localhost:8080/"
        },
        "id": "1Ox5m1UnzeUj",
        "outputId": "de836f07-b177-4f03-ebcf-5a1f1fc80b72"
      },
      "execution_count": 7,
      "outputs": [
        {
          "output_type": "stream",
          "name": "stdout",
          "text": [
            "Support for {'whole milk'}: 0.1579\n",
            "Support for {'butter', 'whole milk'}: 0.0047\n"
          ]
        }
      ]
    },
    {
      "cell_type": "markdown",
      "source": [
        "## Generate Candidate Itemsets"
      ],
      "metadata": {
        "id": "oF5ZJwJvzhdZ"
      }
    },
    {
      "cell_type": "code",
      "source": [
        "def generate_candidates(frequent_itemsets, k):\n",
        "    \"\"\"\n",
        "    Generate candidate itemsets of size k from frequent itemsets of size k-1\n",
        "    This uses the \"join\" step of the Apriori algorithm\n",
        "\n",
        "    TODO 2.2.1: Implement candidate generation\n",
        "    Args:\n",
        "        frequent_itemsets: set of frequent itemsets of size k-1\n",
        "        k: size of candidates to generate\n",
        "\n",
        "    Returns:\n",
        "        set of candidate itemsets of size k\n",
        "\n",
        "    Hints:\n",
        "    - Convert frequent_itemsets to a list for easier iteration\n",
        "    - For each pair of itemsets, compute their union\n",
        "    - Only keep unions that have exactly k items\n",
        "    - Use frozenset for immutable sets\n",
        "    \"\"\"\n",
        "    candidates = set()\n",
        "    frequent_list = list(frequent_itemsets)\n",
        "\n",
        "    # TODO: Implement the join operation\n",
        "    # Hint: Use nested loops to try all pairs of frequent itemsets\n",
        "    # For each pair, take the union and check if it has size k\n",
        "    for i in range(len(frequent_list)):\n",
        "        for j in range(i + 1, len(frequent_list)):\n",
        "            union_set = frequent_list[i].union(frequent_list[j])\n",
        "            if len(union_set) == k:\n",
        "                candidates.add(frozenset(union_set))\n",
        "\n",
        "    return candidates\n",
        "\n",
        "# TODO 2.2.2: Test candidate generation\n",
        "frequent_1 = [frozenset(['A']), frozenset(['B']), frozenset(['C'])]\n",
        "candidates_2 = generate_candidates(frequent_1, 2)\n",
        "print(f\"Generated 2-itemset candidates: {[set(c) for c in candidates_2]}\")\n",
        "\n",
        "# TODO 2.2.3: Test with larger example\n",
        "frequent_2 = [frozenset(['A', 'B']), frozenset(['A', 'C']), frozenset(['B', 'C'])]\n",
        "candidates_3 = generate_candidates(frequent_2, 3)\n",
        "print(f\"Generated 3-itemset candidates: {[set(c) for c in candidates_3]}\")\n"
      ],
      "metadata": {
        "colab": {
          "base_uri": "https://localhost:8080/"
        },
        "id": "In8Ok0W8zlCe",
        "outputId": "2ffb1a20-0b29-4ef6-d231-63b27278e248"
      },
      "execution_count": 8,
      "outputs": [
        {
          "output_type": "stream",
          "name": "stdout",
          "text": [
            "Generated 2-itemset candidates: [{'A', 'B'}, {'C', 'B'}, {'C', 'A'}]\n",
            "Generated 3-itemset candidates: [{'C', 'A', 'B'}]\n"
          ]
        }
      ]
    },
    {
      "cell_type": "markdown",
      "source": [
        "## Find Frequent Itemsets (Main Apriori Algorithm)\n"
      ],
      "metadata": {
        "id": "7IR_iOKtzoBs"
      }
    },
    {
      "cell_type": "code",
      "source": [
        "def find_frequent_itemsets(transactions, min_support):\n",
        "    \"\"\"\n",
        "    Find all frequent itemsets using the Apriori algorithm\n",
        "\n",
        "    TODO 2.3.1: Implement the complete Apriori algorithm\n",
        "    Args:\n",
        "        transactions: list of transactions\n",
        "        min_support: minimum support threshold\n",
        "\n",
        "    Returns:\n",
        "        dict: {k: set of frequent k-itemsets}\n",
        "\n",
        "    Algorithm Steps:\n",
        "    1. Find frequent 1-itemsets\n",
        "    2. For k = 2, 3, 4, ... until no more frequent itemsets:\n",
        "       a. Generate candidate k-itemsets from frequent (k-1)-itemsets\n",
        "       b. Test each candidate for minimum support\n",
        "       c. Keep candidates that meet minimum support\n",
        "    3. Return all frequent itemsets\n",
        "    \"\"\"\n",
        "    frequent_itemsets = {}\n",
        "\n",
        "    # TODO 2.3.2: Find frequent 1-itemsets\n",
        "    print(\"Finding frequent 1-itemsets...\")\n",
        "\n",
        "    # Step 1: Get all unique items\n",
        "    # TODO: Fill this with all unique items from transactions\n",
        "    all_items = set(item for transaction in transactions for item in transaction)\n",
        "\n",
        "    # Step 2: Test each item for frequency\n",
        "    frequent_1 = set()\n",
        "    for item in all_items:\n",
        "        itemset = frozenset([item])\n",
        "        support = calculate_support(itemset, transactions)\n",
        "        # TODO: Add to frequent_1 if support >= min_support\n",
        "        if support >= min_support:\n",
        "            frequent_1.add(itemset)\n",
        "\n",
        "    frequent_itemsets[1] = frequent_1\n",
        "    print(f\"Found {len(frequent_1)} frequent 1-itemsets\")\n",
        "\n",
        "    # TODO 2.3.3: Generate frequent k-itemsets for k > 1\n",
        "    k = 2\n",
        "    while frequent_itemsets[k-1]:  # Continue while previous level has itemsets\n",
        "        print(f\"Finding frequent {k}-itemsets...\")\n",
        "\n",
        "        # TODO: Generate candidates using your generate_candidates function\n",
        "        candidates = generate_candidates(frequent_itemsets[k-1], k)\n",
        "\n",
        "        # TODO: Test candidates for frequency\n",
        "        frequent_k = set()\n",
        "        for candidate in candidates:\n",
        "            # Calculate support and check against minimum\n",
        "            # Add to frequent_k if it meets the threshold\n",
        "            support = calculate_support(candidate, transactions)\n",
        "            if support >= min_support:\n",
        "                frequent_k.add(candidate)\n",
        "\n",
        "        # TODO: Add frequent_k to results if it's not empty, otherwise break\n",
        "        if not frequent_k:\n",
        "            break\n",
        "\n",
        "        frequent_itemsets[k] = frequent_k\n",
        "        print(f\"Found {len(frequent_k)} frequent {k}-itemsets\")\n",
        "\n",
        "        k += 1\n",
        "\n",
        "    return frequent_itemsets\n",
        "\n",
        "# TODO 2.3.4: Run the algorithm\n",
        "min_support = 0.01  # 1% minimum support\n",
        "print(f\"Running Apriori with minimum support = {min_support}\")\n",
        "frequent_itemsets = find_frequent_itemsets(transactions, min_support)\n",
        "\n",
        "# TODO 2.3.5: Display results summary\n",
        "print(f\"\\nFrequent itemsets summary:\")\n",
        "for k, itemsets in frequent_itemsets.items():\n",
        "    print(f\"  {k}-itemsets: {len(itemsets)}\")\n",
        "\n",
        "# TODO 2.3.6: Show some examples of frequent itemsets\n",
        "print(f\"\\nExample frequent itemsets:\")\n",
        "for k, itemsets in frequent_itemsets.items():\n",
        "    if itemsets:\n",
        "        example_itemsets = list(itemsets)[:3]  # Show first 3\n",
        "        for itemset in example_itemsets:\n",
        "            support = calculate_support(itemset, transactions)\n",
        "            print(f\"  {set(itemset)}: support = {support:.4f}\")\n"
      ],
      "metadata": {
        "colab": {
          "base_uri": "https://localhost:8080/"
        },
        "id": "P73f0mdAzqTr",
        "outputId": "745573da-12b7-4a51-b7e2-771d681625a5"
      },
      "execution_count": 9,
      "outputs": [
        {
          "output_type": "stream",
          "name": "stdout",
          "text": [
            "Running Apriori with minimum support = 0.01\n",
            "Finding frequent 1-itemsets...\n",
            "Found 64 frequent 1-itemsets\n",
            "Finding frequent 2-itemsets...\n",
            "Found 5 frequent 2-itemsets\n",
            "Finding frequent 3-itemsets...\n",
            "\n",
            "Frequent itemsets summary:\n",
            "  1-itemsets: 64\n",
            "  2-itemsets: 5\n",
            "\n",
            "Example frequent itemsets:\n",
            "  {'hamburger meat'}: support = 0.0219\n",
            "  {'hygiene articles'}: support = 0.0137\n",
            "  {'waffles'}: support = 0.0185\n",
            "  {'whole milk', 'yogurt'}: support = 0.0112\n",
            "  {'other vegetables', 'rolls/buns'}: support = 0.0106\n",
            "  {'whole milk', 'other vegetables'}: support = 0.0148\n"
          ]
        }
      ]
    },
    {
      "cell_type": "markdown",
      "source": [
        "# Part 3: Generate Association Rules"
      ],
      "metadata": {
        "id": "x2k2rsi-5kp7"
      }
    },
    {
      "cell_type": "markdown",
      "source": [
        "## Task 3.1: Implement Association Rule Generation"
      ],
      "metadata": {
        "id": "9CmVar405tbI"
      }
    },
    {
      "cell_type": "code",
      "source": [
        "def generate_association_rules(frequent_itemsets, transactions, min_confidence):\n",
        "    \"\"\"\n",
        "    Generate association rules from frequent itemsets\n",
        "    Rule: X → Y where X ∪ Y is a frequent itemset\n",
        "\n",
        "    TODO 3.1.1: Implement association rule generation\n",
        "    Args:\n",
        "        frequent_itemsets: dict of frequent itemsets\n",
        "        transactions: list of transactions\n",
        "        min_confidence: minimum confidence threshold\n",
        "\n",
        "    Returns:\n",
        "        list of association rules with metrics\n",
        "\n",
        "    For each frequent itemset of size ≥ 2:\n",
        "    1. Generate all possible ways to split it into antecedent → consequent\n",
        "    2. Calculate confidence = support(antecedent ∪ consequent) / support(antecedent)\n",
        "    3. Keep rules with confidence ≥ min_confidence\n",
        "    4. Calculate lift = confidence / support(consequent)\n",
        "    \"\"\"\n",
        "    rules = []\n",
        "\n",
        "    # TODO 3.1.2: Generate rules from itemsets of size 2 and above\n",
        "    for k in range(2, len(frequent_itemsets) + 1):\n",
        "        for itemset in frequent_itemsets[k]:\n",
        "            items = list(itemset)\n",
        "\n",
        "            # TODO: Generate all possible antecedent-consequent pairs\n",
        "            # Hint: Use combinations to generate all possible splits\n",
        "            # For itemset {A,B,C}, possible antecedents: {A}, {B}, {C}, {A,B}, {A,C}, {B,C}\n",
        "\n",
        "            for i in range(1, len(items)):  # i is size of antecedent\n",
        "                for antecedent_items in combinations(items, i):\n",
        "                    antecedent = frozenset(antecedent_items)\n",
        "                    consequent = itemset - antecedent\n",
        "\n",
        "                    # TODO 3.1.3: Calculate metrics\n",
        "                    support_itemset = calculate_support(itemset, transactions)\n",
        "                    support_antecedent = calculate_support(antecedent, transactions)\n",
        "\n",
        "                    if support_antecedent > 0:\n",
        "                        # TODO: Calculate confidence\n",
        "                        confidence = support_itemset / support_antecedent  # support_itemset / support_antecedent\n",
        "\n",
        "                        if confidence >= min_confidence:\n",
        "                            # TODO: Calculate lift\n",
        "                            support_consequent = calculate_support(consequent, transactions)\n",
        "                            lift = confidence / support_consequent if support_consequent > 0 else 0\n",
        "\n",
        "                            # TODO: Add rule to results\n",
        "                            rules.append({\n",
        "                                'antecedent': set(antecedent),\n",
        "                                'consequent': set(consequent),\n",
        "                                'support': support_itemset,\n",
        "                                'confidence': confidence,\n",
        "                                'lift': lift\n",
        "                            })\n",
        "\n",
        "    return rules\n",
        "\n",
        "# TODO 3.1.4: Generate rules and analyze them\n",
        "min_confidence = 0.01  # 30% minimum confidence\n",
        "print(f\"Generating association rules with minimum confidence = {min_confidence}\")\n",
        "\n",
        "rules = generate_association_rules(frequent_itemsets, transactions, min_confidence)\n",
        "print(f\"Generated {len(rules)} association rules\")\n",
        "\n",
        "# TODO 3.1.5: Sort rules by confidence and display top 10\n",
        "# Hint: Use rules.sort(key=lambda x: x['confidence'], reverse=True)\n",
        "rules.sort(key=lambda x: x['confidence'], reverse=True)\n",
        "\n",
        "print(f\"\\nTop 10 association rules by confidence:\")\n",
        "# TODO: Loop through top 10 rules and display them nicely\n",
        "for i, rule in enumerate(rules[:10], start=1):\n",
        "    ant = ', '.join(rule['antecedent'])\n",
        "    cons = ', '.join(rule['consequent'])\n",
        "    print(f\"{i}. {{ {ant} }} => {{ {cons} }} \"\n",
        "          f\"[support: {rule['support']:.4f}, confidence: {rule['confidence']:.2f}, lift: {rule['lift']:.2f}]\")"
      ],
      "metadata": {
        "colab": {
          "base_uri": "https://localhost:8080/"
        },
        "id": "fD2YCLTW5wEV",
        "outputId": "b5964afd-1edb-422c-86c5-31e265802b5a"
      },
      "execution_count": 14,
      "outputs": [
        {
          "output_type": "stream",
          "name": "stdout",
          "text": [
            "Generating association rules with minimum confidence = 0.01\n",
            "Generated 10 association rules\n",
            "\n",
            "Top 10 association rules by confidence:\n",
            "1. { yogurt } => { whole milk } [support: 0.0112, confidence: 0.13, lift: 0.82]\n",
            "2. { rolls/buns } => { whole milk } [support: 0.0140, confidence: 0.13, lift: 0.80]\n",
            "3. { other vegetables } => { whole milk } [support: 0.0148, confidence: 0.12, lift: 0.77]\n",
            "4. { soda } => { whole milk } [support: 0.0116, confidence: 0.12, lift: 0.76]\n",
            "5. { rolls/buns } => { other vegetables } [support: 0.0106, confidence: 0.10, lift: 0.79]\n",
            "6. { whole milk } => { other vegetables } [support: 0.0148, confidence: 0.09, lift: 0.77]\n",
            "7. { whole milk } => { rolls/buns } [support: 0.0140, confidence: 0.09, lift: 0.80]\n",
            "8. { other vegetables } => { rolls/buns } [support: 0.0106, confidence: 0.09, lift: 0.79]\n",
            "9. { whole milk } => { soda } [support: 0.0116, confidence: 0.07, lift: 0.76]\n",
            "10. { whole milk } => { yogurt } [support: 0.0112, confidence: 0.07, lift: 0.82]\n"
          ]
        }
      ]
    },
    {
      "cell_type": "markdown",
      "source": [
        "## Rule Analysis and Filtering"
      ],
      "metadata": {
        "id": "oJFq0mam5_pQ"
      }
    },
    {
      "cell_type": "code",
      "source": [
        "def analyze_rules(rules):\n",
        "    \"\"\"\n",
        "    Analyze and filter association rules based on different criteria\n",
        "\n",
        "    TODO 3.2.1: Implement comprehensive rule analysis\n",
        "    \"\"\"\n",
        "    print(\"=== ASSOCIATION RULES ANALYSIS ===\\n\")\n",
        "\n",
        "    # TODO 3.2.2: Rules with highest lift\n",
        "    print(\"TOP 10 RULES BY LIFT (Most surprising associations):\")\n",
        "    # Sort by lift and display top 10\n",
        "    # Show: antecedent → consequent, lift, confidence, support\n",
        "    top_by_lift = sorted(rules, key=lambda x: x['lift'], reverse=True)[:10]\n",
        "    for i, rule in enumerate(top_by_lift, 1):\n",
        "        print(f\"{i}. {rule['antecedent']} => {rule['consequent']} \"\n",
        "              f\"[lift: {rule['lift']:.2f}, confidence: {rule['confidence']:.2f}, support: {rule['support']:.4f}]\")\n",
        "\n",
        "    # TODO 3.2.3: Rules with highest support\n",
        "    print(\"\\nTOP 10 RULES BY SUPPORT (Most frequent associations):\")\n",
        "    # Sort by support and display top 10\n",
        "    top_by_support = sorted(rules, key=lambda x: x['support'], reverse=True)[:10]\n",
        "    for i, rule in enumerate(top_by_support, 1):\n",
        "        print(f\"{i}. {rule['antecedent']} => {rule['consequent']} \"\n",
        "              f\"[support: {rule['support']:.4f}, confidence: {rule['confidence']:.2f}, lift: {rule['lift']:.2f}]\")\n",
        "\n",
        "    # TODO 3.2.4: Balanced rules (good confidence AND lift)\n",
        "    print(f\"\\nBALANCED RULES (Confidence > 0.5 and Lift > 1.5):\")\n",
        "    # Filter rules with both high confidence and high lift\n",
        "    # Sort by confidence * lift product\n",
        "    balanced_rules = [r for r in rules if r['confidence'] > 0.5 and r['lift'] > 1.5]\n",
        "    balanced_sorted = sorted(balanced_rules, key=lambda x: x['confidence'] * x['lift'], reverse=True)\n",
        "\n",
        "    if balanced_sorted:\n",
        "        for i, rule in enumerate(balanced_sorted[:10], 1):\n",
        "            print(f\"{i}. {rule['antecedent']} => {rule['consequent']} \"\n",
        "                  f\"[confidence: {rule['confidence']:.2f}, lift: {rule['lift']:.2f}, support: {rule['support']:.4f}]\")\n",
        "    else:\n",
        "        print(\"No rules found with confidence > 0.5 and lift > 1.5\")\n",
        "\n",
        "    # TODO 3.2.5: Rules for specific items\n",
        "    print(f\"\\nRULES INVOLVING 'whole milk':\")\n",
        "    # Find rules where 'whole milk' is either antecedent or consequent\n",
        "    milk_rules = [\n",
        "        r for r in rules\n",
        "        if 'whole milk' in r['antecedent'] or 'whole milk' in r['consequent']\n",
        "    ]\n",
        "\n",
        "    if milk_rules:\n",
        "        for i, rule in enumerate(milk_rules[:10], 1):  # limit to 10 for display\n",
        "            print(f\"{i}. {rule['antecedent']} => {rule['consequent']} \"\n",
        "                  f\"[support: {rule['support']:.4f}, confidence: {rule['confidence']:.2f}, lift: {rule['lift']:.2f}]\")\n",
        "    else:\n",
        "        print(\"No rules found involving 'whole milk'\")\n",
        "\n",
        "# TODO 3.2.6: Run the analysis\n",
        "analyze_rules(rules)\n"
      ],
      "metadata": {
        "colab": {
          "base_uri": "https://localhost:8080/"
        },
        "id": "fsAq7scx6COf",
        "outputId": "656fc306-096a-40dd-cb9b-b6d121424b95"
      },
      "execution_count": 16,
      "outputs": [
        {
          "output_type": "stream",
          "name": "stdout",
          "text": [
            "=== ASSOCIATION RULES ANALYSIS ===\n",
            "\n",
            "TOP 10 RULES BY LIFT (Most surprising associations):\n",
            "1. {'yogurt'} => {'whole milk'} [lift: 0.82, confidence: 0.13, support: 0.0112]\n",
            "2. {'whole milk'} => {'yogurt'} [lift: 0.82, confidence: 0.07, support: 0.0112]\n",
            "3. {'rolls/buns'} => {'whole milk'} [lift: 0.80, confidence: 0.13, support: 0.0140]\n",
            "4. {'whole milk'} => {'rolls/buns'} [lift: 0.80, confidence: 0.09, support: 0.0140]\n",
            "5. {'other vegetables'} => {'rolls/buns'} [lift: 0.79, confidence: 0.09, support: 0.0106]\n",
            "6. {'rolls/buns'} => {'other vegetables'} [lift: 0.79, confidence: 0.10, support: 0.0106]\n",
            "7. {'other vegetables'} => {'whole milk'} [lift: 0.77, confidence: 0.12, support: 0.0148]\n",
            "8. {'whole milk'} => {'other vegetables'} [lift: 0.77, confidence: 0.09, support: 0.0148]\n",
            "9. {'soda'} => {'whole milk'} [lift: 0.76, confidence: 0.12, support: 0.0116]\n",
            "10. {'whole milk'} => {'soda'} [lift: 0.76, confidence: 0.07, support: 0.0116]\n",
            "\n",
            "TOP 10 RULES BY SUPPORT (Most frequent associations):\n",
            "1. {'other vegetables'} => {'whole milk'} [support: 0.0148, confidence: 0.12, lift: 0.77]\n",
            "2. {'whole milk'} => {'other vegetables'} [support: 0.0148, confidence: 0.09, lift: 0.77]\n",
            "3. {'rolls/buns'} => {'whole milk'} [support: 0.0140, confidence: 0.13, lift: 0.80]\n",
            "4. {'whole milk'} => {'rolls/buns'} [support: 0.0140, confidence: 0.09, lift: 0.80]\n",
            "5. {'soda'} => {'whole milk'} [support: 0.0116, confidence: 0.12, lift: 0.76]\n",
            "6. {'whole milk'} => {'soda'} [support: 0.0116, confidence: 0.07, lift: 0.76]\n",
            "7. {'yogurt'} => {'whole milk'} [support: 0.0112, confidence: 0.13, lift: 0.82]\n",
            "8. {'whole milk'} => {'yogurt'} [support: 0.0112, confidence: 0.07, lift: 0.82]\n",
            "9. {'rolls/buns'} => {'other vegetables'} [support: 0.0106, confidence: 0.10, lift: 0.79]\n",
            "10. {'other vegetables'} => {'rolls/buns'} [support: 0.0106, confidence: 0.09, lift: 0.79]\n",
            "\n",
            "BALANCED RULES (Confidence > 0.5 and Lift > 1.5):\n",
            "No rules found with confidence > 0.5 and lift > 1.5\n",
            "\n",
            "RULES INVOLVING 'whole milk':\n",
            "1. {'yogurt'} => {'whole milk'} [support: 0.0112, confidence: 0.13, lift: 0.82]\n",
            "2. {'rolls/buns'} => {'whole milk'} [support: 0.0140, confidence: 0.13, lift: 0.80]\n",
            "3. {'other vegetables'} => {'whole milk'} [support: 0.0148, confidence: 0.12, lift: 0.77]\n",
            "4. {'soda'} => {'whole milk'} [support: 0.0116, confidence: 0.12, lift: 0.76]\n",
            "5. {'whole milk'} => {'other vegetables'} [support: 0.0148, confidence: 0.09, lift: 0.77]\n",
            "6. {'whole milk'} => {'rolls/buns'} [support: 0.0140, confidence: 0.09, lift: 0.80]\n",
            "7. {'whole milk'} => {'soda'} [support: 0.0116, confidence: 0.07, lift: 0.76]\n",
            "8. {'whole milk'} => {'yogurt'} [support: 0.0112, confidence: 0.07, lift: 0.82]\n"
          ]
        }
      ]
    }
  ]
}