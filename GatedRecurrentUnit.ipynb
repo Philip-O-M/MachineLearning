{
  "nbformat": 4,
  "nbformat_minor": 0,
  "metadata": {
    "colab": {
      "provenance": [],
      "toc_visible": true,
      "authorship_tag": "ABX9TyNkcp1IZAn7CWrOsHP2Jpny"
    },
    "kernelspec": {
      "name": "python3",
      "display_name": "Python 3"
    },
    "language_info": {
      "name": "python"
    }
  },
  "cells": [
    {
      "cell_type": "markdown",
      "source": [
        "# Dataset Information\n",
        "* Dataset: Apple Stock Price Dataset from Kaggle\n",
        "\n",
        "* Source: https://www.kaggle.com/datasets/prasoonkottarathil/apple-lifetime-stocks-dataset\n",
        "\n",
        "* Description: Historical Apple stock prices with OHLC (Open, High, Low, Close) data from 1980-2021\n",
        "\n",
        "* Format: CSV with columns: Date, Open, High, Low, Close, Adj Close, Volume\n",
        "\n",
        "* Size: 10,000+ daily records, perfect for time series learning\n",
        "\n",
        "* Alternative: Any stock dataset from Yahoo Finance or similar"
      ],
      "metadata": {
        "id": "CG9NzlFy7f4u"
      }
    },
    {
      "cell_type": "markdown",
      "source": [
        "# Part1: Dataset Preparation and Exploration\n"
      ],
      "metadata": {
        "id": "T-mYZ5lQF7X2"
      }
    },
    {
      "cell_type": "markdown",
      "source": [
        "## Libraries\n"
      ],
      "metadata": {
        "id": "gNqOK-TMGHhh"
      }
    },
    {
      "cell_type": "code",
      "execution_count": null,
      "metadata": {
        "id": "2gG0aF-r7N2r"
      },
      "outputs": [],
      "source": [
        "import numpy as np\n",
        "import pandas as pd\n",
        "import matplotlib.pyplot as plt\n",
        "import seaborn as sns\n",
        "from sklearn.preprocessing import MinMaxScaler\n",
        "from sklearn.metrics import mean_squared_error, mean_absolute_error\n",
        "import warnings\n",
        "warnings.filterwarnings('ignore')"
      ]
    },
    {
      "cell_type": "markdown",
      "source": [
        "## Load and Explore the Time Series Data"
      ],
      "metadata": {
        "id": "tsfEmXV9GUP8"
      }
    },
    {
      "cell_type": "code",
      "source": [
        "# TODO 1.1.1: Load the dataset\n",
        "# Download from: https://www.kaggle.com/datasets/prasoonkottarathil/apple-lifetime-stocks-dataset\n",
        "df = pd.read_csv('AAPL.csv')\n",
        "\n",
        "# TODO 1.1.2: Explore the dataset structure\n",
        "print(\"Dataset shape:\", df.shape)\n",
        "\n",
        "print(\"\\nFirst 5 rows:\")\n",
        "print(df.head())\n",
        "\n",
        "print(\"\\nDataset info:\")\n",
        "print(df.info())\n",
        "\n",
        "print(\"\\nMissing values:\")\n",
        "print(df.isnull().sum())\n",
        "\n",
        "# TODO 1.1.3: Convert Date column to datetime and set as index\n",
        "df['Date'] = pd.to_datetime(df['Date'])\n",
        "df.set_index('Date', inplace=True)\n",
        "# TODO 1.1.4: Display basic statistics\n",
        "print(\"\\nDataset statistics:\")\n",
        "print(df.describe())\n",
        "\n",
        "# TODO 1.1.5: Check date range\n",
        "print(f\"\\nDate range: {df.index.min().date()} to {df.index.max().date()} \")\n"
      ],
      "metadata": {
        "colab": {
          "base_uri": "https://localhost:8080/"
        },
        "id": "9u2S9LudGRpJ",
        "outputId": "db4a8587-74b0-4bf4-876d-a840521eae05"
      },
      "execution_count": null,
      "outputs": [
        {
          "output_type": "stream",
          "name": "stdout",
          "text": [
            "Dataset shape: (9823, 7)\n",
            "\n",
            "First 5 rows:\n",
            "         Date      Open      High       Low     Close  Adj Close       Volume\n",
            "0  1980-12-12  0.513393  0.515625  0.513393  0.513393   0.407747  117258400.0\n",
            "1  1980-12-15  0.488839  0.488839  0.486607  0.486607   0.386473   43971200.0\n",
            "2  1980-12-16  0.453125  0.453125  0.450893  0.450893   0.358108   26432000.0\n",
            "3  1980-12-17  0.462054  0.464286  0.462054  0.462054   0.366972   21610400.0\n",
            "4  1980-12-18  0.475446  0.477679  0.475446  0.475446   0.377609   18362400.0\n",
            "\n",
            "Dataset info:\n",
            "<class 'pandas.core.frame.DataFrame'>\n",
            "RangeIndex: 9823 entries, 0 to 9822\n",
            "Data columns (total 7 columns):\n",
            " #   Column     Non-Null Count  Dtype  \n",
            "---  ------     --------------  -----  \n",
            " 0   Date       9823 non-null   object \n",
            " 1   Open       9822 non-null   float64\n",
            " 2   High       9822 non-null   float64\n",
            " 3   Low        9822 non-null   float64\n",
            " 4   Close      9822 non-null   float64\n",
            " 5   Adj Close  9822 non-null   float64\n",
            " 6   Volume     9822 non-null   float64\n",
            "dtypes: float64(6), object(1)\n",
            "memory usage: 537.3+ KB\n",
            "None\n",
            "\n",
            "Missing values:\n",
            "Date         0\n",
            "Open         1\n",
            "High         1\n",
            "Low          1\n",
            "Close        1\n",
            "Adj Close    1\n",
            "Volume       1\n",
            "dtype: int64\n",
            "\n",
            "Dataset statistics:\n",
            "              Open         High          Low        Close    Adj Close  \\\n",
            "count  9822.000000  9822.000000  9822.000000  9822.000000  9822.000000   \n",
            "mean     30.350057    30.640633    30.048298    30.352940    28.364033   \n",
            "std      53.443016    53.908364    52.983661    53.464270    51.603590   \n",
            "min       0.198661     0.198661     0.196429     0.196429     0.156008   \n",
            "25%       1.062500     1.085357     1.043571     1.066964     0.914089   \n",
            "50%       1.709286     1.742366     1.671429     1.712857     1.452872   \n",
            "75%      30.393928    30.555714    29.865358    30.233214    26.305946   \n",
            "max     267.899994   268.000000   265.390015   267.100006   267.100006   \n",
            "\n",
            "             Volume  \n",
            "count  9.822000e+03  \n",
            "mean   8.620720e+07  \n",
            "std    8.623138e+07  \n",
            "min    3.472000e+05  \n",
            "25%    3.318138e+07  \n",
            "50%    5.798940e+07  \n",
            "75%    1.076320e+08  \n",
            "max    1.855410e+09  \n",
            "\n",
            "Date range: 1980-12-12 to 2019-11-25 \n"
          ]
        }
      ]
    },
    {
      "cell_type": "markdown",
      "source": [
        "## Visualize Time Series Patterns"
      ],
      "metadata": {
        "id": "POsOOCoDMTQM"
      }
    }
  ]
}